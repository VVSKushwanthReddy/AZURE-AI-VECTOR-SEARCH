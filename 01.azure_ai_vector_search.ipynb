{
 "cells": [
  {
   "cell_type": "code",
   "execution_count": 2,
   "metadata": {},
   "outputs": [
    {
     "name": "stderr",
     "output_type": "stream",
     "text": [
      "c:\\Ambarish\\AZURE-AI-VECTOR-SEARCH\\.venv\\Lib\\site-packages\\tqdm\\auto.py:21: TqdmWarning: IProgress not found. Please update jupyter and ipywidgets. See https://ipywidgets.readthedocs.io/en/stable/user_install.html\n",
      "  from .autonotebook import tqdm as notebook_tqdm\n"
     ]
    }
   ],
   "source": [
    "from dotenv import load_dotenv,dotenv_values\n",
    "import json\n",
    "import os\n",
    "from sentence_transformers import SentenceTransformer"
   ]
  },
  {
   "cell_type": "code",
   "execution_count": 3,
   "metadata": {},
   "outputs": [],
   "source": [
    "from azure.core.credentials import AzureKeyCredential  \n",
    "from azure.search.documents import SearchClient, SearchIndexingBufferedSender  \n",
    "from azure.search.documents.indexes import SearchIndexClient  \n",
    "from azure.search.documents.models import (\n",
    "    QueryAnswerType,\n",
    "    QueryCaptionType,\n",
    "    QueryCaptionResult,\n",
    "    QueryAnswerResult,\n",
    "    SemanticErrorMode,\n",
    "    SemanticErrorReason,\n",
    "    SemanticSearchResultsType,\n",
    "    QueryType,\n",
    "    VectorizedQuery,\n",
    "    VectorQuery,\n",
    "    VectorFilterMode,    \n",
    ")\n",
    "from azure.search.documents.indexes.models import (  \n",
    "    ExhaustiveKnnAlgorithmConfiguration,\n",
    "    ExhaustiveKnnParameters,\n",
    "    SearchIndex,  \n",
    "    SearchField,  \n",
    "    SearchFieldDataType,  \n",
    "    SimpleField,  \n",
    "    SearchableField,  \n",
    "    SearchIndex,  \n",
    "    SemanticConfiguration,  \n",
    "    SemanticPrioritizedFields,\n",
    "    SemanticField,  \n",
    "    SearchField,  \n",
    "    SemanticSearch,\n",
    "    VectorSearch,  \n",
    "    HnswAlgorithmConfiguration,\n",
    "    HnswParameters,  \n",
    "    VectorSearch,\n",
    "    VectorSearchAlgorithmConfiguration,\n",
    "    VectorSearchAlgorithmKind,\n",
    "    VectorSearchProfile,\n",
    "    SearchIndex,\n",
    "    SearchField,\n",
    "    SearchFieldDataType,\n",
    "    SimpleField,\n",
    "    SearchableField,\n",
    "    VectorSearch,\n",
    "    ExhaustiveKnnParameters,\n",
    "    SearchIndex,  \n",
    "    SearchField,  \n",
    "    SearchFieldDataType,  \n",
    "    SimpleField,  \n",
    "    SearchableField,  \n",
    "    SearchIndex,  \n",
    "    SemanticConfiguration,  \n",
    "    SemanticField,  \n",
    "    SearchField,  \n",
    "    VectorSearch,  \n",
    "    HnswParameters,  \n",
    "    VectorSearch,\n",
    "    VectorSearchAlgorithmKind,\n",
    "    VectorSearchAlgorithmMetric,\n",
    "    VectorSearchProfile,\n",
    ")  \n",
    "  \n",
    "# Configure environment variables  \n",
    "load_dotenv()  \n",
    "service_endpoint = os.getenv(\"AZURE_SEARCH_SERVICE_ENDPOINT\") \n",
    "index_name = os.getenv(\"AZURE_SEARCH_INDEX_NAME\") \n",
    "key = os.getenv(\"AZURE_SEARCH_ADMIN_KEY\") \n",
    "model = os.getenv(\"MODEL_NAME\")\n",
    "credential = AzureKeyCredential(key)"
   ]
  },
  {
   "cell_type": "code",
   "execution_count": 4,
   "metadata": {},
   "outputs": [],
   "source": [
    "index_client = SearchIndexClient(\n",
    "    endpoint=service_endpoint, credential=credential)\n",
    "fields = [\n",
    "    SimpleField(name=\"id\", type=SearchFieldDataType.String, key=True, sortable=True, filterable=True, facetable=True),\n",
    "    SearchableField(name=\"line\", type=SearchFieldDataType.String),\n",
    "    SearchField(name=\"embedding\", type=SearchFieldDataType.Collection(SearchFieldDataType.Single),\n",
    "                searchable=True, vector_search_dimensions=384, vector_search_profile_name=\"myHnswProfile\")\n",
    "]"
   ]
  },
  {
   "cell_type": "code",
   "execution_count": 5,
   "metadata": {},
   "outputs": [
    {
     "data": {
      "text/plain": [
       "<azure.search.documents.indexes._search_index_client.SearchIndexClient at 0x1f8e5432b50>"
      ]
     },
     "execution_count": 5,
     "metadata": {},
     "output_type": "execute_result"
    }
   ],
   "source": [
    "index_client"
   ]
  },
  {
   "cell_type": "code",
   "execution_count": 6,
   "metadata": {},
   "outputs": [],
   "source": [
    "# Configure the vector search configuration  \n",
    "vector_search = VectorSearch(\n",
    "    algorithms=[\n",
    "        HnswAlgorithmConfiguration(\n",
    "            name=\"myHnsw\",\n",
    "            kind=VectorSearchAlgorithmKind.HNSW,\n",
    "            parameters=HnswParameters(\n",
    "                m=4,\n",
    "                ef_construction=400,\n",
    "                ef_search=500,\n",
    "                metric=VectorSearchAlgorithmMetric.COSINE\n",
    "            )\n",
    "        ),\n",
    "        ExhaustiveKnnAlgorithmConfiguration(\n",
    "            name=\"myExhaustiveKnn\",\n",
    "            kind=VectorSearchAlgorithmKind.EXHAUSTIVE_KNN,\n",
    "            parameters=ExhaustiveKnnParameters(\n",
    "                metric=VectorSearchAlgorithmMetric.COSINE\n",
    "            )\n",
    "        )\n",
    "    ],\n",
    "    profiles=[\n",
    "        VectorSearchProfile(\n",
    "            name=\"myHnswProfile\",\n",
    "            algorithm_configuration_name=\"myHnsw\",\n",
    "        ),\n",
    "        VectorSearchProfile(\n",
    "            name=\"myExhaustiveKnnProfile\",\n",
    "            algorithm_configuration_name=\"myExhaustiveKnn\",\n",
    "        )\n",
    "    ]\n",
    ")"
   ]
  },
  {
   "cell_type": "code",
   "execution_count": 7,
   "metadata": {},
   "outputs": [
    {
     "name": "stdout",
     "output_type": "stream",
     "text": [
      " biology created\n"
     ]
    }
   ],
   "source": [
    "semantic_config = SemanticConfiguration(\n",
    "    name=\"my-semantic-config\",\n",
    "    prioritized_fields=SemanticPrioritizedFields(\n",
    "        content_fields=[SemanticField(field_name=\"line\")]\n",
    "    )\n",
    ")\n",
    "\n",
    "# Create the semantic settings with the configuration\n",
    "semantic_search = SemanticSearch(configurations=[semantic_config])\n",
    "\n",
    "# Create the search index with the semantic settings\n",
    "index = SearchIndex(name=index_name, fields=fields,\n",
    "                    vector_search=vector_search, \n",
    "                    semantic_search=semantic_search)\n",
    "result = index_client.create_or_update_index(index)\n",
    "print(f' {result.name} created')\n"
   ]
  },
  {
   "cell_type": "code",
   "execution_count": 8,
   "metadata": {},
   "outputs": [],
   "source": [
    "# Upload some documents to the index\n",
    "with open('output/docVectors.json', 'r') as file:  \n",
    "    documents = json.load(file)  "
   ]
  },
  {
   "cell_type": "code",
   "execution_count": 9,
   "metadata": {},
   "outputs": [],
   "source": [
    "search_client = SearchClient(endpoint=service_endpoint, index_name=index_name, credential=credential)"
   ]
  },
  {
   "cell_type": "code",
   "execution_count": 10,
   "metadata": {},
   "outputs": [
    {
     "data": {
      "text/plain": [
       "<SearchClient [endpoint='https://agsearch001.search.windows.net', index='biology']>"
      ]
     },
     "execution_count": 10,
     "metadata": {},
     "output_type": "execute_result"
    }
   ],
   "source": [
    "search_client"
   ]
  },
  {
   "cell_type": "code",
   "execution_count": 11,
   "metadata": {},
   "outputs": [
    {
     "name": "stdout",
     "output_type": "stream",
     "text": [
      "Uploaded 73 documents\n",
      "CPU times: total: 219 ms\n",
      "Wall time: 2.74 s\n"
     ]
    }
   ],
   "source": [
    "%%time\n",
    "result = search_client.upload_documents(documents)\n",
    "print(f\"Uploaded {len(documents)} documents\") "
   ]
  },
  {
   "cell_type": "code",
   "execution_count": 12,
   "metadata": {},
   "outputs": [],
   "source": [
    "model = SentenceTransformer(os.getenv(\"MODEL_NAME\"))"
   ]
  },
  {
   "cell_type": "code",
   "execution_count": 13,
   "metadata": {},
   "outputs": [
    {
     "name": "stdout",
     "output_type": "stream",
     "text": [
      "[ 1.70245077e-02 -9.67202429e-03 -3.97975780e-02 -4.14157473e-02\n",
      " -1.79855712e-03 -7.58505240e-02  5.32115065e-02  1.78187508e-02\n",
      "  1.60154980e-02 -4.83783111e-02 -2.39067301e-02 -3.55373160e-03\n",
      " -2.08270364e-02  3.93998474e-02 -9.52671319e-02 -2.90863812e-02\n",
      " -4.94355671e-02  6.14180975e-02 -6.69129863e-02 -3.10570151e-02\n",
      "  4.07211892e-02  5.90016991e-02 -7.08595291e-02 -2.52509248e-02\n",
      "  3.31796408e-02  4.70836088e-02 -2.69988365e-02 -3.08165997e-02\n",
      "  3.26630212e-02  1.64568648e-02  4.49804775e-02  9.02690291e-02\n",
      "  1.48209944e-01  4.69967760e-02 -1.56246042e-02  3.02223153e-02\n",
      "  3.94755155e-02  1.08202761e-02  2.13319920e-02  3.03754937e-02\n",
      " -4.67632525e-02 -4.76687998e-02 -3.42696942e-02 -4.35898826e-02\n",
      "  9.45607871e-02  2.52115726e-02 -7.91070610e-03 -1.31769665e-03\n",
      " -1.32708671e-03 -1.51302041e-02 -6.85700998e-02 -5.53621762e-02\n",
      " -9.70548242e-02  6.37322515e-02  3.73306975e-04  4.80806828e-02\n",
      "  6.39700219e-02 -5.31220669e-03  5.40202558e-02  6.58710487e-04\n",
      "  5.36609702e-02 -5.38213849e-02 -3.89730744e-03  6.48083016e-02\n",
      "  7.96684772e-02 -4.63562235e-02  4.92348038e-02 -4.75508906e-02\n",
      "  4.92643155e-02 -8.51476341e-02  2.65667979e-02  1.15716988e-02\n",
      "  1.32369045e-02  5.24979085e-02 -2.21106261e-02 -4.71434928e-02\n",
      "  1.57222711e-02  2.38337889e-02  5.45365810e-02 -9.64872986e-02\n",
      " -1.32228923e-03  6.84381044e-03  2.29973122e-02  2.42166277e-02\n",
      "  6.17400780e-02  8.10764264e-04 -1.47125283e-02 -1.02478834e-02\n",
      " -3.61862779e-02  6.55645430e-02 -3.98144163e-02 -5.70353307e-03\n",
      " -5.99326603e-02 -3.55271325e-02 -5.37018068e-02 -5.40749244e-02\n",
      " -2.29282770e-02 -9.78457704e-02  1.20936111e-01  8.09259042e-02\n",
      "  6.15505408e-03 -2.01835614e-02  4.53514382e-02  3.80073600e-02\n",
      " -5.07686920e-02 -8.23643357e-02  1.89345758e-02 -4.72250879e-02\n",
      "  5.14014326e-02 -3.00648715e-02 -1.41448909e-02  7.74168130e-03\n",
      "  1.18482038e-02 -3.14981267e-02  3.30487639e-03 -6.63558543e-02\n",
      "  3.11586689e-02  4.09835875e-02  8.98433924e-02  7.62700215e-02\n",
      " -5.78200258e-02 -8.22980888e-03 -3.21924798e-02  6.10138737e-02\n",
      "  6.84917048e-02 -4.55044582e-02 -7.50049502e-02 -5.66429953e-33\n",
      " -1.24968123e-02 -1.09833084e-01  1.43913375e-02 -3.00800465e-02\n",
      " -3.63184065e-02  3.93661298e-03 -4.99393940e-02 -9.61392075e-02\n",
      " -2.25097104e-03 -3.56109142e-02  3.79340015e-02 -2.65119374e-02\n",
      "  5.58298342e-02  8.65139887e-02  1.15511015e-01 -6.63700998e-02\n",
      " -1.95346009e-02  9.91996229e-02 -6.52406439e-02 -1.72092412e-02\n",
      " -3.67196575e-02  3.37868347e-04  4.37478311e-02  2.06184154e-03\n",
      " -1.06362870e-03  4.01481753e-03 -2.01197602e-02 -8.96405578e-02\n",
      "  5.97039089e-02  1.03787072e-02 -8.99343006e-03  6.41857535e-02\n",
      " -4.61828243e-03  4.79591917e-03  1.33592254e-02  6.78716004e-02\n",
      "  1.40689844e-02 -1.34147685e-02  1.54859992e-02  7.20514823e-03\n",
      "  3.24865319e-02 -7.54459426e-02  8.92999843e-02 -7.38989115e-02\n",
      " -3.92479151e-02 -6.52590580e-03 -2.35717017e-02  7.41786212e-02\n",
      " -8.78033191e-02  3.15609314e-02  1.87572520e-02 -3.09624169e-02\n",
      "  5.82191609e-02 -3.88232060e-02 -1.70183759e-02  1.00370131e-01\n",
      " -1.83222257e-03 -1.34245167e-02  8.25318415e-03 -8.94523971e-03\n",
      " -1.96021069e-02  5.08095399e-02 -4.86952998e-02  5.47941551e-02\n",
      " -4.03372347e-02 -2.11167429e-02 -2.71791182e-02  7.05304975e-03\n",
      "  7.13149980e-02  5.80662638e-02 -1.18940316e-01 -6.89780153e-03\n",
      "  4.33540829e-02  6.74919561e-02 -2.32370123e-02  9.79902968e-03\n",
      " -9.25112441e-02  1.11513987e-01 -6.16636500e-02 -2.11256221e-02\n",
      " -1.27276838e-01  1.70117784e-02 -5.13142766e-03 -7.28604421e-02\n",
      "  8.09808169e-03  5.77496700e-02  2.78811269e-02 -3.83274890e-02\n",
      "  8.84513371e-03 -5.14076017e-02 -6.16440848e-02  2.43043844e-02\n",
      " -9.58251432e-02  1.00456111e-01  2.59853825e-02  2.97706856e-33\n",
      " -2.09527202e-02  3.93382497e-02 -4.17726636e-02  9.19804648e-02\n",
      " -7.73987472e-02 -1.82844270e-02 -2.54597887e-02  1.28297675e-02\n",
      " -5.27729541e-02 -2.82729249e-02 -4.18086946e-02  3.61884609e-02\n",
      "  1.01808347e-02 -3.32481079e-02 -4.49078940e-02 -4.39939946e-02\n",
      "  2.02510133e-03 -1.09593701e-02 -9.14282538e-03  3.24842446e-02\n",
      " -6.36386080e-03 -1.59304999e-02 -3.26036625e-02 -7.45019764e-02\n",
      " -3.44227143e-02  3.13774087e-02 -2.29216535e-02 -3.84872146e-02\n",
      " -2.30348250e-03 -1.12796365e-03 -4.95258905e-03 -3.84010896e-02\n",
      " -5.66771813e-02 -9.04669166e-02 -1.82079356e-02  5.22590242e-02\n",
      "  2.17015296e-02 -1.11126509e-02  3.76304402e-03 -5.30760810e-02\n",
      " -1.31103070e-02  5.57983592e-02  6.62407875e-02  5.09968027e-02\n",
      " -5.61193097e-03 -2.83113937e-03  7.65510276e-02  1.05332993e-01\n",
      " -1.33549511e-01  1.37600126e-02 -5.84245622e-02  1.24230564e-01\n",
      " -4.69318219e-03 -2.15377118e-02 -3.77377979e-02  5.09336181e-02\n",
      " -6.99048191e-02 -2.94826981e-02  4.02679907e-05 -1.54657811e-02\n",
      "  1.74164064e-02 -1.25751300e-02 -5.30782342e-02  4.27089185e-02\n",
      "  5.49880788e-02  7.61945732e-03  1.10048130e-02 -1.21133309e-02\n",
      "  5.45152184e-03 -6.93733059e-03  1.33510813e-01  3.92199084e-02\n",
      "  6.90059513e-02  3.10931820e-02 -4.72215004e-02 -6.87603503e-02\n",
      " -5.11627048e-02 -6.50508748e-03 -3.39084715e-02  2.56999745e-04\n",
      " -3.83007713e-02 -9.60990489e-02  2.42822785e-02  4.60501350e-02\n",
      " -2.32632272e-03 -1.03396205e-02  1.13974186e-02 -8.62050988e-03\n",
      " -1.13614055e-03 -8.11755136e-02 -1.52291665e-02 -6.98988512e-02\n",
      "  1.01364427e-03  4.75848513e-03 -6.42460361e-02 -1.38097764e-08\n",
      " -4.25805487e-02 -6.47688583e-02 -6.95251347e-03 -5.45321479e-02\n",
      "  6.10868484e-02 -9.35890060e-03 -3.52371135e-03  1.15588032e-01\n",
      "  2.34008785e-02 -6.77494332e-02  3.12653882e-03 -4.06405367e-02\n",
      " -1.11796021e-01 -4.69659828e-03  6.42655138e-03  3.30384374e-02\n",
      "  1.16484247e-01  5.65877110e-02 -3.73283327e-02  3.47422287e-02\n",
      " -5.82544412e-03 -6.35633767e-02 -1.20081741e-03  3.28485332e-02\n",
      "  8.48734751e-02 -2.09306814e-02  4.42031771e-02  1.34414271e-01\n",
      "  3.54982950e-02 -1.11562684e-01  4.25299251e-04  8.38736594e-02\n",
      "  7.10148513e-02  5.92325702e-02  5.98103255e-02  6.32285103e-02\n",
      " -5.04969656e-02  1.71804614e-02 -3.20186205e-02 -5.21046780e-02\n",
      "  2.38878783e-02  1.86799336e-02  1.04854763e-01 -1.95436459e-02\n",
      "  2.94554401e-02  7.00006038e-02  6.69495687e-02  5.18715903e-02\n",
      "  7.12833405e-02 -4.95279171e-02  3.52508500e-02  4.60434146e-02\n",
      "  2.11331192e-02  3.11050899e-02 -4.04639728e-02  6.24507992e-03\n",
      "  5.98373152e-02 -1.95624810e-02  5.12347668e-02  8.82610530e-02\n",
      " -3.16176303e-02  4.49413955e-02 -1.76464003e-02 -6.94818497e-02]\n"
     ]
    }
   ],
   "source": [
    "query = \"What is segmentation?\"  \n",
    "query_vector = model.encode([query])[0]\n",
    "print(query_vector)"
   ]
  },
  {
   "cell_type": "code",
   "execution_count": 14,
   "metadata": {},
   "outputs": [
    {
     "name": "stdout",
     "output_type": "stream",
     "text": [
      "Score: 0.03253968432545662\n",
      "Content: 3 Diagrammatic sectional view of :\n",
      "(a) Coelomate (b) Pseudocoelomate\n",
      "(c) AcoelomateThose animals in which the developing embryo has a thir d germinal layer ,\n",
      "mesoderm , in between the ectoderm and endoderm, are called\n",
      "triploblastic  animals (platyhelminthes to chordates, Figure 4.2b).\n",
      "4.1.5 Segmentation\n",
      "In some animals, the body is externally and internally divided into\n",
      "segments with a serial repetition of at least some organs\n",
      "\n",
      "Score: 0.03201844170689583\n",
      "Content:  For example, in\n",
      "earthworm, the body shows this pattern called metameric segmentation\n",
      "and the phenomenon is known as metamerism .\n",
      "4.1.6 Notochord\n",
      "Notochord is a mesodermally derived rod-like structure formed on the\n",
      "dorsal side during embryonic development in some animals. Animals with\n",
      "notochord are called chordates and those animals which do not form this\n",
      "structure are called non-chordates, e.g., porifera to echinoderms.\n",
      "4\n",
      "\n",
      "Score: 0.03151364624500275\n",
      "Content: Segmentation in the body is first observed in which of the following:\n",
      "(a) Platyhelminthes  (b) Aschelminthes  (c) Annelida  (d) Arthropoda\n",
      "Rationalised 2023-24\n",
      "54 BIOLOGY\n",
      "14.Match the following:\n",
      "(a)Operculum (i)Ctenophora\n",
      "(b)Parapodia (ii)Mollusca\n",
      "(c)Scales (iii)Porifera\n",
      "(d)Comb plates (iv)Reptilia\n",
      "(e)Radula (v)Annelida\n",
      "(f)Hairs (vi)Cyclostomata and Chondrichthyes\n",
      "(g)Choanocytes (vii) Mammalia\n",
      "(h)Gill slits (viii) Osteichthyes\n",
      "15\n",
      "\n"
     ]
    }
   ],
   "source": [
    " \n",
    "search_client = SearchClient(service_endpoint, index_name, AzureKeyCredential(key))  \n",
    "vector_query = VectorizedQuery(vector=query_vector, k_nearest_neighbors=3, fields=\"embedding\")\n",
    "\n",
    "results = search_client.search(  \n",
    "    search_text=query,  \n",
    "    vector_queries=[vector_query],\n",
    "    select=[\"line\"],\n",
    "    top=3\n",
    ")  \n",
    "  \n",
    "for result in results:  \n",
    "    print(f\"Score: {result['@search.score']}\")  \n",
    "    print(f\"Content: {result['line']}\\n\")  "
   ]
  },
  {
   "cell_type": "code",
   "execution_count": 17,
   "metadata": {},
   "outputs": [],
   "source": [
    "search_client = SearchClient(service_endpoint, \n",
    "                             index_name, \n",
    "                             AzureKeyCredential(key))  \n",
    "vector_query = VectorizedQuery(vector=query_vector, \n",
    "                               k_nearest_neighbors=3, \n",
    "                               fields=\"embedding\")\n",
    "\n",
    "results = search_client.search(  \n",
    "    search_text=query,  \n",
    "    vector_queries=[vector_query],\n",
    "    select=[\"line\"],\n",
    "    query_type=QueryType.SEMANTIC, \n",
    "    semantic_configuration_name='my-semantic-config', \n",
    "    query_caption=QueryCaptionType.EXTRACTIVE, \n",
    "    query_answer=QueryAnswerType.EXTRACTIVE,\n",
    "    top=3\n",
    ")  "
   ]
  },
  {
   "cell_type": "code",
   "execution_count": 18,
   "metadata": {},
   "outputs": [],
   "source": [
    "semantic_answers = results.get_answers()\n",
    "for answer in semantic_answers:\n",
    "    if answer.highlights:\n",
    "        print(f\"Semantic Answer: {answer.highlights}\")\n",
    "    else:\n",
    "        print(f\"Semantic Answer: {answer.text}\")\n",
    "    print(f\"Semantic Answer Score: {answer.score}\\n\")"
   ]
  },
  {
   "cell_type": "code",
   "execution_count": 19,
   "metadata": {},
   "outputs": [
    {
     "data": {
      "text/plain": [
       "[]"
      ]
     },
     "execution_count": 19,
     "metadata": {},
     "output_type": "execute_result"
    }
   ],
   "source": [
    "semantic_answers"
   ]
  },
  {
   "cell_type": "code",
   "execution_count": 20,
   "metadata": {},
   "outputs": [
    {
     "name": "stdout",
     "output_type": "stream",
     "text": [
      "Reranker Score: 2.023825168609619\n",
      "Content: Segmentation in the body is first observed in which of the following:\n",
      "(a) Platyhelminthes  (b) Aschelminthes  (c) Annelida  (d) Arthropoda\n",
      "Rationalised 2023-24\n",
      "54 BIOLOGY\n",
      "14.Match the following:\n",
      "(a)Operculum (i)Ctenophora\n",
      "(b)Parapodia (ii)Mollusca\n",
      "(c)Scales (iii)Porifera\n",
      "(d)Comb plates (iv)Reptilia\n",
      "(e)Radula (v)Annelida\n",
      "(f)Hairs (vi)Cyclostomata and Chondrichthyes\n",
      "(g)Choanocytes (vii) Mammalia\n",
      "(h)Gill slits (viii) Osteichthyes\n",
      "15\n",
      "Caption: <em>segmentation</em> in the body is first observed in which of the following: (a) platyhelminthes  (b) aschelminthes  (c) annelida  (d) arthropoda rationalised 2023-24 54 biology 14.match the following: (a)operculum (i)ctenophora (b)parapodia (ii)mollusca (c)scales (iii)porifera (d)comb plates (iv)reptilia (e)radula (v)annelida (f)hairs (vi)cyclostomata …\n",
      "\n",
      "Reranker Score: 1.9124540090560913\n",
      "Content: 3 Diagrammatic sectional view of :\n",
      "(a) Coelomate (b) Pseudocoelomate\n",
      "(c) AcoelomateThose animals in which the developing embryo has a thir d germinal layer ,\n",
      "mesoderm , in between the ectoderm and endoderm, are called\n",
      "triploblastic  animals (platyhelminthes to chordates, Figure 4.2b).\n",
      "4.1.5 Segmentation\n",
      "In some animals, the body is externally and internally divided into\n",
      "segments with a serial repetition of at least some organs\n",
      "Caption: 3 diagrammatic sectional view of : (a) coelomate (b) pseudocoelomate (c) acoelomatethose animals in which the developing embryo has a thir d germinal layer , mesoderm , in between the ectoderm and endoderm, are called triploblastic  animals (platyhelminthes to chordates, figure 4.2b). 4.1.5<em> segmentation</em> in some animals, the body is externally and …\n",
      "\n",
      "Reranker Score: 1.6512713432312012\n",
      "Content:  For example, in\n",
      "earthworm, the body shows this pattern called metameric segmentation\n",
      "and the phenomenon is known as metamerism .\n",
      "4.1.6 Notochord\n",
      "Notochord is a mesodermally derived rod-like structure formed on the\n",
      "dorsal side during embryonic development in some animals. Animals with\n",
      "notochord are called chordates and those animals which do not form this\n",
      "structure are called non-chordates, e.g., porifera to echinoderms.\n",
      "4\n",
      "Caption:  For example, in\n",
      "earthworm, the body shows this pattern called metameric<em> segmentation\n",
      "and</em> the phenomenon is known as metamerism .\n",
      "4.1.6 Notochord\n",
      "Notochord is a mesodermally derived rod-like structure formed on the\n",
      "dorsal side during embryonic development in some animals. Animals with\n",
      "notochord are called chordates and those animals which do not form this\n",
      "structure are called non-chordates, e.g., porifera to echinoderms.\n",
      "4.\n",
      "\n"
     ]
    }
   ],
   "source": [
    "for result in results:\n",
    "    print(f\"Reranker Score: {result['@search.reranker_score']}\")\n",
    "    print(f\"Content: {result['line']}\")\n",
    "\n",
    "    captions = result[\"@search.captions\"]\n",
    "    if captions:\n",
    "        caption = captions[0]\n",
    "        if caption.highlights:\n",
    "            print(f\"Caption: {caption.highlights}\\n\")\n",
    "        else:\n",
    "            print(f\"Caption: {caption.text}\\n\")"
   ]
  },
  {
   "cell_type": "code",
   "execution_count": null,
   "metadata": {},
   "outputs": [],
   "source": []
  }
 ],
 "metadata": {
  "kernelspec": {
   "display_name": ".venv311",
   "language": "python",
   "name": "python3"
  },
  "language_info": {
   "codemirror_mode": {
    "name": "ipython",
    "version": 3
   },
   "file_extension": ".py",
   "mimetype": "text/x-python",
   "name": "python",
   "nbconvert_exporter": "python",
   "pygments_lexer": "ipython3",
   "version": "3.11.6"
  }
 },
 "nbformat": 4,
 "nbformat_minor": 2
}
